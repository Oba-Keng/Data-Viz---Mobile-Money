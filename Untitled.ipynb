{
 "cells": [
  {
   "cell_type": "code",
   "execution_count": 5,
   "metadata": {},
   "outputs": [],
   "source": [
    "\n",
    "\n",
    "# from geopy.geocoders import Nominatim # convert an address into latitude and longitude values\n",
    "\n",
    "import folium # Map rendering library\n",
    "\n",
    "\n",
    "\n"
   ]
  },
  {
   "cell_type": "code",
   "execution_count": 10,
   "metadata": {},
   "outputs": [
    {
     "ename": "SyntaxError",
     "evalue": "invalid syntax (<ipython-input-10-e5e524d670c9>, line 3)",
     "output_type": "error",
     "traceback": [
      "\u001b[0;36m  File \u001b[0;32m\"<ipython-input-10-e5e524d670c9>\"\u001b[0;36m, line \u001b[0;32m3\u001b[0m\n\u001b[0;31m    lat = [lat value] ; lon = [longitude value]\u001b[0m\n\u001b[0m                   ^\u001b[0m\n\u001b[0;31mSyntaxError\u001b[0m\u001b[0;31m:\u001b[0m invalid syntax\n"
     ]
    }
   ],
   "source": [
    "# create empty map object for the COuntry_map using latitude and longitude values\n",
    "\n",
    "lat = [lat value] ; lon = [longitude value]\n",
    "\n",
    "Country_map = folium.Map(location=[lat, lon], zoom_start=11)\n",
    "\n",
    "\n",
    "# add markers to map\n",
    "\n",
    "for lat, lng, label in zip(df['Latitude'], df['Longitude'], \n",
    "\n",
    "                           df['*args']):\n",
    "\n",
    "    label = folium.Popup(label, parse_html=True)\n",
    "\n",
    "    folium.CircleMarker(\n",
    "\n",
    "        [lat, lng],\n",
    "\n",
    "        radius=5,\n",
    "\n",
    "        popup=label,\n",
    "\n",
    "        color='blue',\n",
    "\n",
    "        fill=True,\n",
    "\n",
    "        fill_color='#3186cc',\n",
    "\n",
    "        fill_opacity=0.7,\n",
    "\n",
    "        parse_html=False).add_to(Country_map)  \n",
    "\n",
    " \n",
    "\n",
    "Country_map\n",
    "\n",
    "\n",
    "\n"
   ]
  },
  {
   "cell_type": "code",
   "execution_count": 7,
   "metadata": {},
   "outputs": [],
   "source": [
    "import os "
   ]
  },
  {
   "cell_type": "code",
   "execution_count": 9,
   "metadata": {},
   "outputs": [
    {
     "data": {
      "text/plain": [
       "'/home/obakeng/Documents/Data Visualization/Mobile-money-master'"
      ]
     },
     "execution_count": 9,
     "metadata": {},
     "output_type": "execute_result"
    }
   ],
   "source": [
    "os.getcwd()"
   ]
  },
  {
   "cell_type": "code",
   "execution_count": null,
   "metadata": {},
   "outputs": [],
   "source": []
  }
 ],
 "metadata": {
  "kernelspec": {
   "display_name": "Python 3",
   "language": "python",
   "name": "python3"
  },
  "language_info": {
   "codemirror_mode": {
    "name": "ipython",
    "version": 3
   },
   "file_extension": ".py",
   "mimetype": "text/x-python",
   "name": "python",
   "nbconvert_exporter": "python",
   "pygments_lexer": "ipython3",
   "version": "3.7.3"
  }
 },
 "nbformat": 4,
 "nbformat_minor": 2
}
